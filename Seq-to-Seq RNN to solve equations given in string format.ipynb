{
 "cells": [
  {
   "cell_type": "markdown",
   "metadata": {},
   "source": [
    "## Seq-to-Seq RNN to solve equations given in string format"
   ]
  },
  {
   "cell_type": "markdown",
   "metadata": {},
   "source": [
    "Problem Statement:\n",
    "Given the string \"54+7\", the model should return a prediction: \"61\". Similar for subtraction.\n",
    "\n",
    "Approach:\n",
    "In this project, we want to create a RNN model and train it to learn the meanings of various characters and understand a simple plus operation. The model needs to infer the meaning of various characters and then learn addition from the given data. RNNs are perfect for solving a problem like this because both the input and output are sequences. So, the model must learn the sequence of the input and then predict a sequence for the output."
   ]
  },
  {
   "cell_type": "code",
   "execution_count": 26,
   "metadata": {},
   "outputs": [
    {
     "name": "stdout",
     "output_type": "stream",
     "text": [
      "Tested with tensorflow version 2.0.1\n",
      "Using tensorflow version: 2.9.0\n"
     ]
    }
   ],
   "source": [
    "import numpy as np\n",
    "import tensorflow as tf\n",
    "\n",
    "from tensorflow.keras.models import Sequential\n",
    "from tensorflow.keras.layers import TimeDistributed, Dense, Dropout, SimpleRNN, RepeatVector\n",
    "from tensorflow.keras.callbacks import EarlyStopping, LambdaCallback\n",
    "\n",
    "from termcolor import colored\n",
    "\n",
    "print('Tested with tensorflow version 2.0.1')\n",
    "print('Using tensorflow version:', tf.__version__)"
   ]
  },
  {
   "cell_type": "markdown",
   "metadata": {},
   "source": [
    "### Generate Data\n"
   ]
  },
  {
   "cell_type": "code",
   "execution_count": 27,
   "metadata": {
    "colab": {
     "base_uri": "https://localhost:8080/",
     "height": 34
    },
    "colab_type": "code",
    "id": "hP-OyQrivBNl",
    "outputId": "70a8ce77-3241-4ea9-dbc7-d9bebb3789f3"
   },
   "outputs": [],
   "source": [
    "all_chars = '0123456789+-'"
   ]
  },
  {
   "cell_type": "code",
   "execution_count": 28,
   "metadata": {},
   "outputs": [
    {
     "name": "stdout",
     "output_type": "stream",
     "text": [
      "Number of features: 12\n",
      "{'0': 0, '1': 1, '2': 2, '3': 3, '4': 4, '5': 5, '6': 6, '7': 7, '8': 8, '9': 9, '+': 10, '-': 11}\n",
      "{0: '0', 1: '1', 2: '2', 3: '3', 4: '4', 5: '5', 6: '6', 7: '7', 8: '8', 9: '9', 10: '+', 11: '-'}\n"
     ]
    }
   ],
   "source": [
    "num_features = len(all_chars)\n",
    "\n",
    "char_to_index = dict((c, i) for i, c in enumerate(all_chars))\n",
    "index_to_char = dict((i, c) for i, c in enumerate(all_chars))\n",
    "\n",
    "print('Number of features:', num_features)\n",
    "print(char_to_index)\n",
    "print(index_to_char)"
   ]
  },
  {
   "cell_type": "code",
   "execution_count": 29,
   "metadata": {},
   "outputs": [
    {
     "data": {
      "text/plain": [
       "True"
      ]
     },
     "execution_count": 29,
     "metadata": {},
     "output_type": "execute_result"
    }
   ],
   "source": [
    "np.random.randint(low=0, high=100)>50"
   ]
  },
  {
   "cell_type": "code",
   "execution_count": 30,
   "metadata": {
    "colab": {},
    "colab_type": "code",
    "id": "L2b1Xg9hvBNr"
   },
   "outputs": [
    {
     "data": {
      "text/plain": [
       "('58+38', '96')"
      ]
     },
     "execution_count": 30,
     "metadata": {},
     "output_type": "execute_result"
    }
   ],
   "source": [
    "def generate_data():\n",
    "    first_num = np.random.randint(low=0,high=100)\n",
    "    second_num = np.random.randint(low=0,high=100)\n",
    "    add = np.squeeze(np.random.randint(low=0, high=100)) > 50.\n",
    "    if add:\n",
    "        example = str(first_num) + '+' + str(second_num)\n",
    "        label = str(first_num+second_num)\n",
    "    else:\n",
    "        example = str(first_num) + '-' + str(second_num)\n",
    "        label = str(first_num-second_num)\n",
    "    return example, label\n",
    "\n",
    "generate_data()"
   ]
  },
  {
   "cell_type": "markdown",
   "metadata": {},
   "source": [
    "### Create the Model"
   ]
  },
  {
   "cell_type": "code",
   "execution_count": 31,
   "metadata": {
    "colab": {
     "base_uri": "https://localhost:8080/",
     "height": 377
    },
    "colab_type": "code",
    "id": "iZKl0LtdvBNy",
    "outputId": "34a3c344-5985-4e3b-e1ac-392c18739308"
   },
   "outputs": [
    {
     "name": "stdout",
     "output_type": "stream",
     "text": [
      "Model: \"sequential_1\"\n",
      "_________________________________________________________________\n",
      " Layer (type)                Output Shape              Param #   \n",
      "=================================================================\n",
      " simple_rnn_2 (SimpleRNN)    (None, 128)               18048     \n",
      "                                                                 \n",
      " repeat_vector_1 (RepeatVect  (None, 5, 128)           0         \n",
      " or)                                                             \n",
      "                                                                 \n",
      " simple_rnn_3 (SimpleRNN)    (None, 5, 128)            32896     \n",
      "                                                                 \n",
      " time_distributed_1 (TimeDis  (None, 5, 12)            1548      \n",
      " tributed)                                                       \n",
      "                                                                 \n",
      "=================================================================\n",
      "Total params: 52,492\n",
      "Trainable params: 52,492\n",
      "Non-trainable params: 0\n",
      "_________________________________________________________________\n"
     ]
    }
   ],
   "source": [
    "hidden_units = 128\n",
    "max_time_steps = 5\n",
    "\n",
    "model = Sequential([\n",
    "    SimpleRNN(hidden_units, input_shape=(None, num_features)),\n",
    "    RepeatVector(max_time_steps),\n",
    "    SimpleRNN(hidden_units, return_sequences=True),\n",
    "    TimeDistributed(Dense(num_features, activation='softmax'))\n",
    "])\n",
    "\n",
    "model.compile(loss='categorical_crossentropy', optimizer='adam', metrics=['accuracy'])\n",
    "model.summary()"
   ]
  },
  {
   "cell_type": "markdown",
   "metadata": {},
   "source": [
    "### Vectorize and De-Vectorize Data"
   ]
  },
  {
   "cell_type": "code",
   "execution_count": 32,
   "metadata": {
    "colab": {},
    "colab_type": "code",
    "id": "Ci29YaA6vBN1"
   },
   "outputs": [
    {
     "name": "stdout",
     "output_type": "stream",
     "text": [
      "Text Example and Label: 43-29 14\n",
      "Vectorized Example and Label Shapes: (5, 12) (5, 12)\n"
     ]
    }
   ],
   "source": [
    "def vectorize_example(example, label):\n",
    "    \n",
    "    x = np.zeros((max_time_steps, num_features))\n",
    "    y = np.zeros((max_time_steps, num_features))\n",
    "    \n",
    "    diff_x = max_time_steps - len(example)\n",
    "    diff_y = max_time_steps - len(label)\n",
    "    \n",
    "    for i, c in enumerate(example):\n",
    "        x[diff_x+i, char_to_index[c]] = 1\n",
    "    for i in range(diff_x):\n",
    "        x[i, char_to_index['0']] = 1\n",
    "    for i, c in enumerate(label):\n",
    "        y[diff_y+i, char_to_index[c]] = 1\n",
    "    for i in range(diff_y):\n",
    "        y[i, char_to_index['0']] = 1\n",
    "        \n",
    "    return x, y\n",
    "\n",
    "e, l = generate_data()\n",
    "print('Text Example and Label:', e, l)\n",
    "x, y = vectorize_example(e, l)\n",
    "print('Vectorized Example and Label Shapes:', x.shape, y.shape)"
   ]
  },
  {
   "cell_type": "code",
   "execution_count": 33,
   "metadata": {
    "colab": {},
    "colab_type": "code",
    "id": "_nARKq-bvBN9"
   },
   "outputs": [
    {
     "data": {
      "text/plain": [
       "'43-29'"
      ]
     },
     "execution_count": 33,
     "metadata": {},
     "output_type": "execute_result"
    }
   ],
   "source": [
    "def devectorize_example(example):\n",
    "    result = [index_to_char[np.argmax(vec)] for i, vec in enumerate(example)]\n",
    "    return ''.join(result)\n",
    "\n",
    "def strip_padding(example):\n",
    "    encountered_non_zero = False\n",
    "    output = ''\n",
    "    for c in example:\n",
    "        if not encountered_non_zero and c == '0':\n",
    "            continue\n",
    "        if c == '+' or c == '-':\n",
    "            encountered_non_zero = False\n",
    "        else:\n",
    "            encountered_non_zero = True\n",
    "        output += c\n",
    "    return output\n",
    "\n",
    "devectorize_example(x)"
   ]
  },
  {
   "cell_type": "code",
   "execution_count": 34,
   "metadata": {
    "colab": {
     "base_uri": "https://localhost:8080/",
     "height": 34
    },
    "colab_type": "code",
    "id": "KCGUxNwNvBOA",
    "outputId": "a721451a-7f7c-42be-bdf0-0c96381f2eb2"
   },
   "outputs": [
    {
     "name": "stdout",
     "output_type": "stream",
     "text": [
      "00014 : 14\n"
     ]
    }
   ],
   "source": [
    "print(devectorize_example(y), ':', strip_padding(devectorize_example(y)))"
   ]
  },
  {
   "cell_type": "markdown",
   "metadata": {},
   "source": [
    "### Create Dataset"
   ]
  },
  {
   "cell_type": "code",
   "execution_count": 35,
   "metadata": {
    "colab": {
     "base_uri": "https://localhost:8080/",
     "height": 34
    },
    "colab_type": "code",
    "id": "T5rdrhiVvBOI",
    "outputId": "426b3722-78cf-494f-8bbf-1cdf7eab3113"
   },
   "outputs": [
    {
     "name": "stdout",
     "output_type": "stream",
     "text": [
      "(20000, 5, 12) (20000, 5, 12)\n"
     ]
    }
   ],
   "source": [
    "def create_dataset(num_examples=2000):\n",
    "\n",
    "    x_train = np.zeros((num_examples, max_time_steps, num_features))\n",
    "    y_train = np.zeros((num_examples, max_time_steps, num_features))\n",
    "\n",
    "    for i in range(num_examples):\n",
    "        e, l = generate_data()\n",
    "        x, y = vectorize_example(e, l)\n",
    "        x_train[i] = x\n",
    "        y_train[i] = y\n",
    "    \n",
    "    return x_train, y_train\n",
    "\n",
    "x_train, y_train = create_dataset(20000)\n",
    "print(x_train.shape, y_train.shape)"
   ]
  },
  {
   "cell_type": "code",
   "execution_count": 36,
   "metadata": {
    "colab": {
     "base_uri": "https://localhost:8080/",
     "height": 34
    },
    "colab_type": "code",
    "id": "RRwiuwcQvBOL",
    "outputId": "07591064-5c57-4adb-ccf6-c226457d2263"
   },
   "outputs": [
    {
     "data": {
      "text/plain": [
       "'68-66'"
      ]
     },
     "execution_count": 36,
     "metadata": {},
     "output_type": "execute_result"
    }
   ],
   "source": [
    "devectorize_example(x_train[0])"
   ]
  },
  {
   "cell_type": "code",
   "execution_count": 37,
   "metadata": {
    "colab": {
     "base_uri": "https://localhost:8080/",
     "height": 34
    },
    "colab_type": "code",
    "id": "cRUvtd0IvBOO",
    "outputId": "d07ce279-06ba-44c4-de91-0ec4fb551877"
   },
   "outputs": [
    {
     "data": {
      "text/plain": [
       "'00002'"
      ]
     },
     "execution_count": 37,
     "metadata": {},
     "output_type": "execute_result"
    }
   ],
   "source": [
    "devectorize_example(y_train[0])"
   ]
  },
  {
   "cell_type": "markdown",
   "metadata": {},
   "source": [
    "### Training the Model"
   ]
  },
  {
   "cell_type": "code",
   "execution_count": 38,
   "metadata": {
    "colab": {
     "base_uri": "https://localhost:8080/",
     "height": 2686
    },
    "colab_type": "code",
    "id": "S8HWRdiOvBOS",
    "outputId": "2365b11f-30e8-48cc-e940-4d3267771fbe"
   },
   "outputs": [
    {
     "name": "stdout",
     "output_type": "stream",
     "text": [
      "0.57 _ 0.62 _ 0.62 _ 0.64 _ 0.65 _ 0.65 _ 0.66 _ 0.66 _ 0.68 _ 0.69 _ 0.70 _ 0.71 _ 0.72 _ 0.73 _ 0.74 _ 0.75 _ 0.75 _ 0.75 _ 0.76 _ 0.77 _ 0.77 _ 0.77 _ 0.78 _ 0.79 _ 0.78 _ 0.79 _ 0.79 _ 0.79 _ 0.79 _ 0.80 _ 0.80 _ 0.81 _ 0.81 _ 0.82 _ 0.83 _ 0.84 _ 0.85 _ 0.86 _ 0.86 _ 0.88 _ 0.88 _ 0.89 _ 0.90 _ 0.90 _ 0.91 _ 0.92 _ 0.93 _ 0.94 _ 0.94 _ 0.95 _ 0.95 _ 0.95 _ 0.95 _ 0.96 _ 0.96 _ 0.97 _ 0.97 _ 0.96 _ 0.97 _ 0.97 _ 0.97 _ 0.97 _ 0.98 _ 0.98 _ 0.98 _ 0.98 _ 0.98 _ 0.98 _ 0.98 _ 0.98 _ 0.98 _ 0.99 _ 0.99 _ 0.99 _ 0.99 _ 0.99 _ 0.99 _ 0.99 _ 0.99 _ 0.99 _ 0.99 _ 0.98 _ 0.98 _ 0.99 _ 0.99 _ 0.99 _ 0.99 _ 0.99 _ 0.99 _ 0.99 _ 0.99 _ 0.99 _ 0.99 _ 0.99 _ 0.99 _ 0.99 _ 0.99 _ 0.99 _ 0.99 _ 0.99 _ "
     ]
    },
    {
     "data": {
      "text/plain": [
       "<keras.callbacks.History at 0x7faee46e4bb0>"
      ]
     },
     "execution_count": 38,
     "metadata": {},
     "output_type": "execute_result"
    }
   ],
   "source": [
    "simple_logger = LambdaCallback(\n",
    "    on_epoch_end=lambda e, l: print('{:.2f}'.format(l['val_accuracy']), end=' _ ')\n",
    ")\n",
    "early_stopping = EarlyStopping(monitor='val_loss', patience=10)\n",
    "\n",
    "model.fit(x_train, y_train, epochs=100, validation_split=0.2, verbose=False,\n",
    "         batch_size=1024, callbacks=[simple_logger, early_stopping])"
   ]
  },
  {
   "cell_type": "markdown",
   "metadata": {},
   "source": [
    "### Create a test set and look at some predictions"
   ]
  },
  {
   "cell_type": "code",
   "execution_count": 39,
   "metadata": {
    "colab": {
     "base_uri": "https://localhost:8080/",
     "height": 187
    },
    "colab_type": "code",
    "id": "tlNtu_9ZvBOY",
    "outputId": "82198555-f0e8-4a7a-9125-cc61cf4f4a26"
   },
   "outputs": [
    {
     "name": "stdout",
     "output_type": "stream",
     "text": [
      "1/1 [==============================] - 0s 161ms/step\n",
      "\u001b[32mInput: 3+59, Out: 62, Pred: 62\u001b[0m\n",
      "\u001b[32mInput: 1-28, Out: -27, Pred: -27\u001b[0m\n",
      "\u001b[32mInput: 68+5, Out: 73, Pred: 73\u001b[0m\n",
      "\u001b[32mInput: 81+55, Out: 136, Pred: 136\u001b[0m\n",
      "\u001b[32mInput: 14+94, Out: 108, Pred: 108\u001b[0m\n",
      "\u001b[32mInput: 49-93, Out: -44, Pred: -44\u001b[0m\n",
      "\u001b[32mInput: 90+36, Out: 126, Pred: 126\u001b[0m\n",
      "\u001b[32mInput: 98+50, Out: 148, Pred: 148\u001b[0m\n",
      "\u001b[32mInput: 30-71, Out: -41, Pred: -41\u001b[0m\n",
      "\u001b[32mInput: 84-4, Out: 80, Pred: 80\u001b[0m\n",
      "\u001b[32mInput: 9+55, Out: 64, Pred: 64\u001b[0m\n",
      "\u001b[32mInput: 7-70, Out: -63, Pred: -63\u001b[0m\n",
      "\u001b[32mInput: 69-61, Out: 8, Pred: 8\u001b[0m\n",
      "\u001b[32mInput: 69+84, Out: 153, Pred: 153\u001b[0m\n",
      "\u001b[32mInput: 10+32, Out: 42, Pred: 42\u001b[0m\n",
      "\u001b[31mInput: 2-93, Out: -91, Pred: -81\u001b[0m\n",
      "\u001b[32mInput: 82-33, Out: 49, Pred: 49\u001b[0m\n",
      "\u001b[32mInput: 74+92, Out: 166, Pred: 166\u001b[0m\n",
      "\u001b[32mInput: 90+87, Out: 177, Pred: 177\u001b[0m\n",
      "\u001b[32mInput: 69+6, Out: 75, Pred: 75\u001b[0m\n",
      "\n",
      "Full sequence accuracy: 95.000 %\n"
     ]
    }
   ],
   "source": [
    "x_test, y_test = create_dataset(num_examples=20)\n",
    "preds = model.predict(x_test)\n",
    "full_seq_acc = 0\n",
    "\n",
    "for i, pred in enumerate(preds):\n",
    "    pred_str = strip_padding(devectorize_example(pred))\n",
    "    y_test_str = strip_padding(devectorize_example(y_test[i]))\n",
    "    x_test_str = strip_padding(devectorize_example(x_test[i]))\n",
    "    col = 'green' if pred_str == y_test_str else 'red'\n",
    "    full_seq_acc += 1/len(preds) * int(pred_str == y_test_str)\n",
    "    outstring = 'Input: {}, Out: {}, Pred: {}'.format(x_test_str, y_test_str, pred_str)\n",
    "    print(colored(outstring, col))\n",
    "print('\\nFull sequence accuracy: {:.3f} %'.format(100 * full_seq_acc))"
   ]
  },
  {
   "cell_type": "code",
   "execution_count": null,
   "metadata": {},
   "outputs": [],
   "source": []
  }
 ],
 "metadata": {
  "accelerator": "GPU",
  "colab": {
   "collapsed_sections": [],
   "name": "addition_simpleRNN.ipynb",
   "provenance": [],
   "version": "0.3.2"
  },
  "kernelspec": {
   "display_name": "Python 3",
   "language": "python",
   "name": "python3"
  },
  "language_info": {
   "codemirror_mode": {
    "name": "ipython",
    "version": 3
   },
   "file_extension": ".py",
   "mimetype": "text/x-python",
   "name": "python",
   "nbconvert_exporter": "python",
   "pygments_lexer": "ipython3",
   "version": "3.8.8"
  }
 },
 "nbformat": 4,
 "nbformat_minor": 1
}
